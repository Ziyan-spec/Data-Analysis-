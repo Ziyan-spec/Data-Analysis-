{
  "nbformat": 4,
  "nbformat_minor": 0,
  "metadata": {
    "colab": {
      "provenance": [],
      "authorship_tag": "ABX9TyM9ZuxApcBnPLD8+eB4+Ycu",
      "include_colab_link": true
    },
    "kernelspec": {
      "name": "python3",
      "display_name": "Python 3"
    },
    "language_info": {
      "name": "python"
    }
  },
  "cells": [
    {
      "cell_type": "markdown",
      "metadata": {
        "id": "view-in-github",
        "colab_type": "text"
      },
      "source": [
        "<a href=\"https://colab.research.google.com/github/Ziyan-spec/Data-Analysis-/blob/main/Python.ipynb\" target=\"_parent\"><img src=\"https://colab.research.google.com/assets/colab-badge.svg\" alt=\"Open In Colab\"/></a>"
      ]
    },
    {
      "cell_type": "markdown",
      "source": [
        "python basic practice"
      ],
      "metadata": {
        "id": "y-eFllAN-FnK"
      }
    },
    {
      "cell_type": "code",
      "execution_count": null,
      "metadata": {
        "colab": {
          "base_uri": "https://localhost:8080/"
        },
        "id": "HTixtsxS962U",
        "outputId": "6665e307-8cd1-44d0-a2f5-f1b91b3f3e8a"
      },
      "outputs": [
        {
          "output_type": "stream",
          "name": "stdout",
          "text": [
            "Ziyan\n"
          ]
        }
      ],
      "source": [
        "print('Ziyan')"
      ]
    },
    {
      "cell_type": "code",
      "source": [
        "a = 10\n",
        "b = 5\n",
        "sum = a + b\n",
        "print('Sum is',sum)"
      ],
      "metadata": {
        "id": "j2BuIdXTB-Zf"
      },
      "execution_count": null,
      "outputs": []
    }
  ]
}