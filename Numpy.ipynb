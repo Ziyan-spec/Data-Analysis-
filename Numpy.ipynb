{
  "nbformat": 4,
  "nbformat_minor": 0,
  "metadata": {
    "colab": {
      "provenance": [],
      "name": "Numpy.ipynb",
      "authorship_tag": "ABX9TyPvYzxVLfaGuSxNXeF3wKjA",
      "include_colab_link": true
    },
    "kernelspec": {
      "name": "python3",
      "display_name": "Python 3"
    },
    "language_info": {
      "name": "python"
    }
  },
  "cells": [
    {
      "cell_type": "markdown",
      "metadata": {
        "id": "view-in-github",
        "colab_type": "text"
      },
      "source": [
        "<a href=\"https://colab.research.google.com/github/Ziyan-spec/Data-Analysis-/blob/main/Numpy.ipynb\" target=\"_parent\"><img src=\"https://colab.research.google.com/assets/colab-badge.svg\" alt=\"Open In Colab\"/></a>"
      ]
    },
    {
      "cell_type": "markdown",
      "source": [
        "# **Basics** **of** **Numpy**\n",
        "\n",
        "\n",
        "\n"
      ],
      "metadata": {
        "id": "y-eFllAN-FnK"
      }
    },
    {
      "cell_type": "code",
      "source": [
        "%%bash\n",
        "git config --global user.name \"Ziyan-spec\"\n",
        "git config --global user.email \"starisk0123@gmail.com\"\n",
        "git config --global init.defaultBranch main"
      ],
      "metadata": {
        "id": "7DujA-LxrkWu"
      },
      "execution_count": 106,
      "outputs": []
    },
    {
      "cell_type": "code",
      "execution_count": null,
      "metadata": {
        "id": "HTixtsxS962U"
      },
      "outputs": [],
      "source": [
        "import numpy as np"
      ]
    },
    {
      "cell_type": "code",
      "source": [
        "#1D\n",
        "a = np.array([1,2,3])\n",
        "print(type(a))\n",
        "print(a)"
      ],
      "metadata": {
        "id": "j2BuIdXTB-Zf",
        "colab": {
          "base_uri": "https://localhost:8080/"
        },
        "outputId": "44e4a108-248e-4356-d367-2a2c0b81fdf5"
      },
      "execution_count": null,
      "outputs": [
        {
          "output_type": "stream",
          "name": "stdout",
          "text": [
            "<class 'numpy.ndarray'>\n",
            "[1 2 3]\n"
          ]
        }
      ]
    },
    {
      "cell_type": "code",
      "source": [
        "#2D\n",
        "np.array([[1,2,3],[4,5,6]])"
      ],
      "metadata": {
        "id": "EWgQxlo344nz",
        "colab": {
          "base_uri": "https://localhost:8080/"
        },
        "outputId": "12b7290e-f875-489f-ce2d-be46dbe1be75"
      },
      "execution_count": null,
      "outputs": [
        {
          "output_type": "execute_result",
          "data": {
            "text/plain": [
              "array([[1, 2, 3],\n",
              "       [4, 5, 6]])"
            ]
          },
          "metadata": {},
          "execution_count": 7
        }
      ]
    },
    {
      "cell_type": "code",
      "source": [
        "#3D\n",
        "np.array([[[1,2,3],[4,5,6]],[[7,8,9],[10,11,12]]])"
      ],
      "metadata": {
        "colab": {
          "base_uri": "https://localhost:8080/"
        },
        "id": "uayYMfj3ZUAn",
        "outputId": "18abc47d-8b7c-4e6d-9937-8f4a69c58d7a"
      },
      "execution_count": null,
      "outputs": [
        {
          "output_type": "execute_result",
          "data": {
            "text/plain": [
              "array([[[ 1,  2,  3],\n",
              "        [ 4,  5,  6]],\n",
              "\n",
              "       [[ 7,  8,  9],\n",
              "        [10, 11, 12]]])"
            ]
          },
          "metadata": {},
          "execution_count": 11
        }
      ]
    },
    {
      "cell_type": "code",
      "source": [
        "#data type\n",
        "np.array([1,2,3],dtype= float)"
      ],
      "metadata": {
        "colab": {
          "base_uri": "https://localhost:8080/"
        },
        "id": "SjSZLU0obior",
        "outputId": "f5a084e2-7e3f-4b81-cd7e-b920404b3c54"
      },
      "execution_count": null,
      "outputs": [
        {
          "output_type": "execute_result",
          "data": {
            "text/plain": [
              "array([1., 2., 3.])"
            ]
          },
          "metadata": {},
          "execution_count": 14
        }
      ]
    },
    {
      "cell_type": "code",
      "source": [
        "#np.arange\n",
        "b = np.arange(1,10, dtype=np.int32)\n",
        "print(b.dtype)\n",
        "print(b)\n",
        "print(b.ndim)\n",
        "print(b.shape)"
      ],
      "metadata": {
        "colab": {
          "base_uri": "https://localhost:8080/"
        },
        "id": "MFFBKd4bcApq",
        "outputId": "cfad60a8-8694-47f9-a72b-124fbd309896"
      },
      "execution_count": null,
      "outputs": [
        {
          "output_type": "stream",
          "name": "stdout",
          "text": [
            "int32\n",
            "[1 2 3 4 5 6 7 8 9]\n",
            "1\n",
            "(9,)\n"
          ]
        }
      ]
    },
    {
      "cell_type": "code",
      "source": [
        "#reshape\n",
        "c = np.arange(1,13).reshape(3,4)\n",
        "print(c.size)\n",
        "print(c)\n",
        "print(c.ndim)\n",
        "print(c.shape)"
      ],
      "metadata": {
        "colab": {
          "base_uri": "https://localhost:8080/"
        },
        "id": "NlsCXodUcdFR",
        "outputId": "2b062f1f-49e5-407c-a061-34fb27b1eec0"
      },
      "execution_count": null,
      "outputs": [
        {
          "output_type": "stream",
          "name": "stdout",
          "text": [
            "12\n",
            "[[ 1  2  3  4]\n",
            " [ 5  6  7  8]\n",
            " [ 9 10 11 12]]\n",
            "2\n",
            "(3, 4)\n"
          ]
        }
      ]
    },
    {
      "cell_type": "markdown",
      "source": [],
      "metadata": {
        "id": "dUsJoJn8OaIP"
      }
    },
    {
      "cell_type": "code",
      "source": [
        "np.ones((3,4))"
      ],
      "metadata": {
        "colab": {
          "base_uri": "https://localhost:8080/"
        },
        "id": "lGM2lk2Gzzge",
        "outputId": "ff7f9bb6-e79b-4a0d-faea-ffae953fb8ed"
      },
      "execution_count": null,
      "outputs": [
        {
          "output_type": "execute_result",
          "data": {
            "text/plain": [
              "array([[1., 1., 1., 1.],\n",
              "       [1., 1., 1., 1.],\n",
              "       [1., 1., 1., 1.]])"
            ]
          },
          "metadata": {},
          "execution_count": 4
        }
      ]
    },
    {
      "cell_type": "code",
      "source": [
        "np.zeros((2,4))"
      ],
      "metadata": {
        "colab": {
          "base_uri": "https://localhost:8080/"
        },
        "id": "xpcxWTvT1kqc",
        "outputId": "13ae296b-3657-4020-aca5-a53c2af3564e"
      },
      "execution_count": null,
      "outputs": [
        {
          "output_type": "execute_result",
          "data": {
            "text/plain": [
              "array([[0., 0., 0., 0.],\n",
              "       [0., 0., 0., 0.]])"
            ]
          },
          "metadata": {},
          "execution_count": 5
        }
      ]
    },
    {
      "cell_type": "code",
      "source": [
        "np.random.random((2,3))"
      ],
      "metadata": {
        "id": "vv9Vctrv2uDA",
        "outputId": "33492436-37ae-4454-b721-2ed96df69b7e",
        "colab": {
          "base_uri": "https://localhost:8080/"
        }
      },
      "execution_count": null,
      "outputs": [
        {
          "output_type": "execute_result",
          "data": {
            "text/plain": [
              "array([[0.46078212, 0.41609319, 0.3657688 ],\n",
              "       [0.7298517 , 0.37175774, 0.49269003]])"
            ]
          },
          "metadata": {},
          "execution_count": 8
        }
      ]
    },
    {
      "cell_type": "code",
      "source": [
        "print(a.dtype)\n",
        "print(b.dtype)"
      ],
      "metadata": {
        "id": "9umpFm0I3AYR",
        "outputId": "be6e2502-5666-4d81-8286-96fb449437c8",
        "colab": {
          "base_uri": "https://localhost:8080/"
        }
      },
      "execution_count": null,
      "outputs": [
        {
          "output_type": "stream",
          "name": "stdout",
          "text": [
            "int64\n",
            "int32\n"
          ]
        }
      ]
    },
    {
      "cell_type": "code",
      "source": [
        "e = a.astype(np.int32)\n",
        "print(e.dtype)\n",
        "print(e)"
      ],
      "metadata": {
        "id": "yN2xZVAcJW4W",
        "outputId": "edfc07f5-9628-4d4a-abc4-39c14c4c89ff",
        "colab": {
          "base_uri": "https://localhost:8080/"
        }
      },
      "execution_count": null,
      "outputs": [
        {
          "output_type": "stream",
          "name": "stdout",
          "text": [
            "int32\n",
            "[1 2 3]\n"
          ]
        }
      ]
    },
    {
      "cell_type": "markdown",
      "source": [
        "# **Arithmetic** **Operations**"
      ],
      "metadata": {
        "id": "C4XixGl3Ne3W"
      }
    },
    {
      "cell_type": "code",
      "source": [
        "print(c)\n",
        "#print(c*2)"
      ],
      "metadata": {
        "id": "56YyJtjONdlV",
        "outputId": "99a128df-548e-4fbc-83ef-6d1a1735f28c",
        "colab": {
          "base_uri": "https://localhost:8080/"
        }
      },
      "execution_count": null,
      "outputs": [
        {
          "output_type": "stream",
          "name": "stdout",
          "text": [
            "[[ 1  2  3  4]\n",
            " [ 5  6  7  8]\n",
            " [ 9 10 11 12]]\n"
          ]
        }
      ]
    },
    {
      "cell_type": "markdown",
      "source": [
        "# **Relational** **Operators**"
      ],
      "metadata": {
        "id": "25-rStr-OHAR"
      }
    },
    {
      "cell_type": "code",
      "source": [
        "c > 4"
      ],
      "metadata": {
        "id": "Pvlx5VyLOE92",
        "outputId": "0f84661f-eedd-49ec-f10e-19ac43272b12",
        "colab": {
          "base_uri": "https://localhost:8080/"
        }
      },
      "execution_count": null,
      "outputs": [
        {
          "output_type": "execute_result",
          "data": {
            "text/plain": [
              "array([[False, False, False, False],\n",
              "       [ True,  True,  True,  True],\n",
              "       [ True,  True,  True,  True]])"
            ]
          },
          "metadata": {},
          "execution_count": 37
        }
      ]
    },
    {
      "cell_type": "markdown",
      "source": [
        "# **Vector** **Operation**\n",
        "\n",
        "\n",
        "\n"
      ],
      "metadata": {
        "id": "5690NQolOh7U"
      }
    },
    {
      "cell_type": "code",
      "source": [
        "d = np.arange(1,13).reshape(3,4)\n",
        "d"
      ],
      "metadata": {
        "id": "ovGbHSmhOjbg",
        "outputId": "13ff27ad-ed6e-4c35-ddee-12ffefc74df1",
        "colab": {
          "base_uri": "https://localhost:8080/"
        }
      },
      "execution_count": null,
      "outputs": [
        {
          "output_type": "execute_result",
          "data": {
            "text/plain": [
              "array([[ 1,  2,  3,  4],\n",
              "       [ 5,  6,  7,  8],\n",
              "       [ 9, 10, 11, 12]])"
            ]
          },
          "metadata": {},
          "execution_count": 40
        }
      ]
    },
    {
      "cell_type": "code",
      "source": [
        "c + d"
      ],
      "metadata": {
        "id": "VsnmesUJPF2h",
        "outputId": "7372d451-9018-4f29-c32e-2496cbbea4e3",
        "colab": {
          "base_uri": "https://localhost:8080/"
        }
      },
      "execution_count": null,
      "outputs": [
        {
          "output_type": "execute_result",
          "data": {
            "text/plain": [
              "array([[ 2,  4,  6,  8],\n",
              "       [10, 12, 14, 16],\n",
              "       [18, 20, 22, 24]])"
            ]
          },
          "metadata": {},
          "execution_count": 41
        }
      ]
    },
    {
      "cell_type": "markdown",
      "source": [
        "# **Array** **Functions**"
      ],
      "metadata": {
        "id": "6_aIcK3dR1zg"
      }
    },
    {
      "cell_type": "code",
      "source": [
        "a1 = np.arange(1,13).reshape(4,3)\n",
        "a1"
      ],
      "metadata": {
        "colab": {
          "base_uri": "https://localhost:8080/"
        },
        "id": "r0T4v-oNP1ED",
        "outputId": "c65f1e16-474b-443f-ad11-aa11f3bf952d"
      },
      "execution_count": null,
      "outputs": [
        {
          "output_type": "execute_result",
          "data": {
            "text/plain": [
              "array([[ 1,  2,  3],\n",
              "       [ 4,  5,  6],\n",
              "       [ 7,  8,  9],\n",
              "       [10, 11, 12]])"
            ]
          },
          "metadata": {},
          "execution_count": 77
        }
      ]
    },
    {
      "cell_type": "code",
      "source": [
        "#sum/min/max/product\n",
        "print(np.sum(a1))\n",
        "print(f\"Max : {np.max(a1)}\")\n",
        "print(np.prod(a1))"
      ],
      "metadata": {
        "colab": {
          "base_uri": "https://localhost:8080/"
        },
        "id": "cozwh5ArU198",
        "outputId": "66330d8d-4c5f-4b98-eeb6-9b8921755f23"
      },
      "execution_count": null,
      "outputs": [
        {
          "output_type": "stream",
          "name": "stdout",
          "text": [
            "78\n",
            "Max : 12\n",
            "479001600\n"
          ]
        }
      ]
    },
    {
      "cell_type": "code",
      "source": [
        "print(np.prod(a1,axis=1))"
      ],
      "metadata": {
        "colab": {
          "base_uri": "https://localhost:8080/"
        },
        "id": "y1d_9PxJVp8U",
        "outputId": "506e7e8b-aba5-4c59-9505-31edb6129800"
      },
      "execution_count": null,
      "outputs": [
        {
          "output_type": "stream",
          "name": "stdout",
          "text": [
            "[   24  1680 11880]\n"
          ]
        }
      ]
    },
    {
      "cell_type": "code",
      "source": [
        "#mean/median/std/var\n",
        "np.var(a1, axis=1)"
      ],
      "metadata": {
        "colab": {
          "base_uri": "https://localhost:8080/"
        },
        "id": "Qd6oChcfYmSs",
        "outputId": "de609469-17aa-46d4-aeab-1487ec1e3d9c"
      },
      "execution_count": null,
      "outputs": [
        {
          "output_type": "execute_result",
          "data": {
            "text/plain": [
              "array([1.25, 1.25, 1.25])"
            ]
          },
          "metadata": {},
          "execution_count": 75
        }
      ]
    },
    {
      "cell_type": "code",
      "source": [
        "#trigonometric function\n",
        "np.sin(a1)"
      ],
      "metadata": {
        "colab": {
          "base_uri": "https://localhost:8080/"
        },
        "id": "P8j4qaSrZrEU",
        "outputId": "4a88348a-a9cb-48d4-9b22-27dc797ca96c"
      },
      "execution_count": null,
      "outputs": [
        {
          "output_type": "execute_result",
          "data": {
            "text/plain": [
              "array([[ 0.84147098,  0.90929743,  0.14112001],\n",
              "       [-0.7568025 , -0.95892427, -0.2794155 ],\n",
              "       [ 0.6569866 ,  0.98935825,  0.41211849],\n",
              "       [-0.54402111, -0.99999021, -0.53657292]])"
            ]
          },
          "metadata": {},
          "execution_count": 90
        }
      ]
    },
    {
      "cell_type": "code",
      "source": [
        "#dot product\n",
        "np.dot(a1,d)"
      ],
      "metadata": {
        "colab": {
          "base_uri": "https://localhost:8080/"
        },
        "id": "hNaKxu6ZaQYL",
        "outputId": "8c3f137b-67fd-4c60-d3d1-8ab703e4487b"
      },
      "execution_count": null,
      "outputs": [
        {
          "output_type": "execute_result",
          "data": {
            "text/plain": [
              "array([[ 38,  44,  50,  56],\n",
              "       [ 83,  98, 113, 128],\n",
              "       [128, 152, 176, 200],\n",
              "       [173, 206, 239, 272]])"
            ]
          },
          "metadata": {},
          "execution_count": 79
        }
      ]
    },
    {
      "cell_type": "code",
      "source": [
        "#exponent and log\n",
        "np.exp(a)"
      ],
      "metadata": {
        "id": "xqXZ8_VrbtbQ",
        "outputId": "a8931a33-7469-4093-c3e1-14636ed0e23a",
        "colab": {
          "base_uri": "https://localhost:8080/"
        }
      },
      "execution_count": null,
      "outputs": [
        {
          "output_type": "execute_result",
          "data": {
            "text/plain": [
              "array([ 2.71828183,  7.3890561 , 20.08553692])"
            ]
          },
          "metadata": {},
          "execution_count": 82
        }
      ]
    },
    {
      "cell_type": "code",
      "source": [
        "#floor/round/ceil\n",
        "a2 = np.random.random((2,3))*100\n",
        "print(a2)\n",
        "print(f\"Floor Vector : \\n{np.floor(a2)}\")\n",
        "print(f\"Round: \\n {np.round(a2)}\")\n",
        "print(f\"Ceil: \\n {np.ceil(a2)}\")"
      ],
      "metadata": {
        "id": "ppRJ1H38cMQV",
        "outputId": "f7bbcce0-67ca-4a39-f507-3956e25c2c1b",
        "colab": {
          "base_uri": "https://localhost:8080/"
        }
      },
      "execution_count": null,
      "outputs": [
        {
          "output_type": "stream",
          "name": "stdout",
          "text": [
            "[[90.98862778 30.69626863 11.20483423]\n",
            " [ 8.27279587  5.43051627 13.61147757]]\n",
            "Floor Vector : \n",
            "[[90. 30. 11.]\n",
            " [ 8.  5. 13.]]\n",
            "Round: \n",
            " [[91. 31. 11.]\n",
            " [ 8.  5. 14.]]\n",
            "Ceil: \n",
            " [[91. 31. 12.]\n",
            " [ 9.  6. 14.]]\n"
          ]
        }
      ]
    },
    {
      "cell_type": "markdown",
      "source": [
        "# **Indexing** **and** **Slicing**"
      ],
      "metadata": {
        "id": "vhOED62ugTGU"
      }
    },
    {
      "cell_type": "code",
      "source": [
        "oneD = np.arange(10)\n",
        "twoD = np.arange(1,13).reshape(3,4)\n",
        "threeD = np.arange(1,9).reshape(2,2,2)"
      ],
      "metadata": {
        "id": "ZLaNEdO8gOwE"
      },
      "execution_count": null,
      "outputs": []
    },
    {
      "cell_type": "code",
      "source": [
        "print(oneD)\n",
        "print(oneD[-1])"
      ],
      "metadata": {
        "colab": {
          "base_uri": "https://localhost:8080/"
        },
        "id": "XIzoipuzhc9a",
        "outputId": "9a2652cf-6d8a-4b9a-f1f7-cea0e1c4d065"
      },
      "execution_count": null,
      "outputs": [
        {
          "output_type": "stream",
          "name": "stdout",
          "text": [
            "[0 1 2 3 4 5 6 7 8 9]\n",
            "9\n"
          ]
        }
      ]
    },
    {
      "cell_type": "code",
      "source": [
        "print(twoD)\n",
        "print(twoD[1,2])"
      ],
      "metadata": {
        "colab": {
          "base_uri": "https://localhost:8080/"
        },
        "id": "3mkLTLJCiKPY",
        "outputId": "8c4b83d7-6fcb-42c0-d3ab-388d6604dea8"
      },
      "execution_count": null,
      "outputs": [
        {
          "output_type": "stream",
          "name": "stdout",
          "text": [
            "[[ 1  2  3  4]\n",
            " [ 5  6  7  8]\n",
            " [ 9 10 11 12]]\n",
            "7\n"
          ]
        }
      ]
    },
    {
      "cell_type": "code",
      "source": [
        "threeD"
      ],
      "metadata": {
        "colab": {
          "base_uri": "https://localhost:8080/"
        },
        "id": "192G_S37jpND",
        "outputId": "daa4cced-8ac7-4b7c-efba-6e28d7fc6fff"
      },
      "execution_count": null,
      "outputs": [
        {
          "output_type": "execute_result",
          "data": {
            "text/plain": [
              "array([[[1, 2],\n",
              "        [3, 4]],\n",
              "\n",
              "       [[5, 6],\n",
              "        [7, 8]]])"
            ]
          },
          "metadata": {},
          "execution_count": 96
        }
      ]
    },
    {
      "cell_type": "code",
      "source": [
        "threeD[1,0,1]"
      ],
      "metadata": {
        "colab": {
          "base_uri": "https://localhost:8080/"
        },
        "id": "M2-q66RAjoVa",
        "outputId": "cb022843-05a8-4244-b9f5-29833470e4b5"
      },
      "execution_count": null,
      "outputs": [
        {
          "output_type": "execute_result",
          "data": {
            "text/plain": [
              "np.int64(6)"
            ]
          },
          "metadata": {},
          "execution_count": 97
        }
      ]
    },
    {
      "cell_type": "code",
      "source": [
        "oneD"
      ],
      "metadata": {
        "colab": {
          "base_uri": "https://localhost:8080/"
        },
        "id": "ZkMaVlLSjnOb",
        "outputId": "824ceb86-d1a6-4226-b47d-933831140a95"
      },
      "execution_count": null,
      "outputs": [
        {
          "output_type": "execute_result",
          "data": {
            "text/plain": [
              "array([0, 1, 2, 3, 4, 5, 6, 7, 8, 9])"
            ]
          },
          "metadata": {},
          "execution_count": 98
        }
      ]
    },
    {
      "cell_type": "code",
      "source": [
        "#slicing\n",
        "oneD[2:5]"
      ],
      "metadata": {
        "colab": {
          "base_uri": "https://localhost:8080/"
        },
        "id": "mjGe34dtlAzr",
        "outputId": "61529a36-512b-4a9b-9a22-34f87c02a749"
      },
      "execution_count": null,
      "outputs": [
        {
          "output_type": "execute_result",
          "data": {
            "text/plain": [
              "array([2, 3, 4])"
            ]
          },
          "metadata": {},
          "execution_count": 99
        }
      ]
    },
    {
      "cell_type": "code",
      "source": [
        "twoD"
      ],
      "metadata": {
        "colab": {
          "base_uri": "https://localhost:8080/"
        },
        "id": "HByUafDOlAYq",
        "outputId": "5cc7be69-8beb-44ea-d5e9-a8e5289b26bb"
      },
      "execution_count": null,
      "outputs": [
        {
          "output_type": "execute_result",
          "data": {
            "text/plain": [
              "array([[ 1,  2,  3,  4],\n",
              "       [ 5,  6,  7,  8],\n",
              "       [ 9, 10, 11, 12]])"
            ]
          },
          "metadata": {},
          "execution_count": 100
        }
      ]
    },
    {
      "cell_type": "code",
      "source": [
        "twoD[:,2]"
      ],
      "metadata": {
        "colab": {
          "base_uri": "https://localhost:8080/"
        },
        "id": "UVzdC_blk_34",
        "outputId": "31586a40-8cb1-47f3-ef44-94b712e58b34"
      },
      "execution_count": null,
      "outputs": [
        {
          "output_type": "execute_result",
          "data": {
            "text/plain": [
              "array([ 3,  7, 11])"
            ]
          },
          "metadata": {},
          "execution_count": 101
        }
      ]
    },
    {
      "cell_type": "code",
      "source": [
        "twoD[2,:]"
      ],
      "metadata": {
        "colab": {
          "base_uri": "https://localhost:8080/"
        },
        "id": "dAylQL_ak_EU",
        "outputId": "f94e6587-2771-4954-f5b1-d3c937706dec"
      },
      "execution_count": null,
      "outputs": [
        {
          "output_type": "execute_result",
          "data": {
            "text/plain": [
              "array([ 9, 10, 11, 12])"
            ]
          },
          "metadata": {},
          "execution_count": 102
        }
      ]
    },
    {
      "cell_type": "code",
      "source": [
        "twoD[1:,1:3]"
      ],
      "metadata": {
        "colab": {
          "base_uri": "https://localhost:8080/"
        },
        "id": "fBxI3l2hmA5_",
        "outputId": "1958d488-05a7-4c51-bb7a-c51c133bf3fa"
      },
      "execution_count": null,
      "outputs": [
        {
          "output_type": "execute_result",
          "data": {
            "text/plain": [
              "array([[ 6,  7],\n",
              "       [10, 11]])"
            ]
          },
          "metadata": {},
          "execution_count": 103
        }
      ]
    },
    {
      "cell_type": "code",
      "source": [
        "twoD[::2,1:4:2]"
      ],
      "metadata": {
        "colab": {
          "base_uri": "https://localhost:8080/"
        },
        "id": "BdBFCaf9mAhK",
        "outputId": "1b29fe0e-2c9b-4e19-f7e2-bf2d6bedff45"
      },
      "execution_count": null,
      "outputs": [
        {
          "output_type": "execute_result",
          "data": {
            "text/plain": [
              "array([[ 2,  4],\n",
              "       [10, 12]])"
            ]
          },
          "metadata": {},
          "execution_count": 105
        }
      ]
    },
    {
      "cell_type": "code",
      "source": [],
      "metadata": {
        "id": "ZatJXZcLmADB"
      },
      "execution_count": null,
      "outputs": []
    },
    {
      "cell_type": "code",
      "source": [],
      "metadata": {
        "id": "DNcmQ86Jl_mb"
      },
      "execution_count": null,
      "outputs": []
    },
    {
      "cell_type": "code",
      "source": [],
      "metadata": {
        "id": "hw-1CqM1l-wE"
      },
      "execution_count": null,
      "outputs": []
    }
  ]
}